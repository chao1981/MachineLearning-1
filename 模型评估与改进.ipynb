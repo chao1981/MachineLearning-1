{
 "cells": [
  {
   "cell_type": "markdown",
   "metadata": {},
   "source": [
    "# 模型评估与改进"
   ]
  },
  {
   "cell_type": "code",
   "execution_count": 1,
   "metadata": {
    "collapsed": true
   },
   "outputs": [],
   "source": [
    "#导入相关模块\n",
    "import pandas as pd\n",
    "import numpy as np\n",
    "import scipy as sc\n",
    "import matplotlib.pyplot as plt\n",
    "import seaborn as sns\n",
    "import mglearn\n",
    "%matplotlib inline\n",
    "\n",
    "#忽略弹出的warnings\n",
    "import warnings\n",
    "warnings.filterwarnings('ignore')  \n",
    "pd.set_option('display.float_format', lambda x: '%.5f' % x)"
   ]
  },
  {
   "cell_type": "markdown",
   "metadata": {},
   "source": [
    "## 交叉验证\n",
    "### 评估模型泛化性能常用的统计方法"
   ]
  },
  {
   "cell_type": "code",
   "execution_count": 2,
   "metadata": {},
   "outputs": [
    {
     "data": {
      "image/png": "[encoded data removed]",
      "text/plain": [
       "<Figure size 864x144 with 1 Axes>"
      ]
     },
     "metadata": {},
     "output_type": "display_data"
    }
   ],
   "source": [
    "mglearn.plots.plot_cross_validation()"
   ]
  },
  {
   "cell_type": "code",
   "execution_count": 12,
   "metadata": {},
   "outputs": [
    {
     "name": "stdout",
     "output_type": "stream",
     "text": [
      "平均精度 0.957863408521\n"
     ]
    }
   ],
   "source": [
    "#交叉验证\n",
    "from sklearn.model_selection import cross_val_score #交叉验证\n",
    "from sklearn.datasets import load_breast_cancer\n",
    "from sklearn.ensemble import RandomForestClassifier\n",
    "from sklearn.model_selection import KFold \n",
    "kfold = KFold(n_splits=10) #可以通过kfold(交叉验证分离器)来控制cv参数\n",
    "\n",
    "cancer = load_breast_cancer()\n",
    "rf = RandomForestClassifier(n_estimators=100)\n",
    "scores = cross_val_score(rf,cancer.data,cancer.target,cv=kfold) #cv是折数参数, 默认值为3\n",
    "print(\"平均精度\",scores.mean())"
   ]
  },
  {
   "cell_type": "markdown",
   "metadata": {},
   "source": [
    "## 网络搜索 -- 通过调参提升模型泛化能力"
   ]
  },
  {
   "cell_type": "markdown",
   "metadata": {},
   "source": [
    "### 简单的网络搜索"
   ]
  },
  {
   "cell_type": "code",
   "execution_count": 16,
   "metadata": {},
   "outputs": [
    {
     "name": "stdout",
     "output_type": "stream",
     "text": [
      "最佳分数: 0.982456140351\n",
      "最佳参数组: {'n_estimators': 60, 'max_depth': 7}\n"
     ]
    }
   ],
   "source": [
    "from sklearn.ensemble import RandomForestClassifier\n",
    "from sklearn.model_selection import  train_test_split\n",
    "from sklearn.datasets import  load_breast_cancer\n",
    "\n",
    "cancer = load_breast_cancer()\n",
    "x_train,x_test,y_train,y_test = train_test_split(cancer.data,cancer.target,random_state=0,test_size=0.3)\n",
    "\n",
    "#对两种参数组合都训练一个rf模型\n",
    "best_score = 0\n",
    "for (max_depth,n_estimators) in [(x,y) for x in range(2,10) for y in range(20,100,10)]:\n",
    "    rf = RandomForestClassifier(n_estimators=n_estimators,max_depth=max_depth)\n",
    "    rf.fit(x_train,y_train)\n",
    "    #在测试集上评估rf\n",
    "    score = rf.score(x_test,y_test)\n",
    "    #如果我们得到了更高得分数,则保存该分数下的参数\n",
    "    if score > best_score:\n",
    "        best_score = score\n",
    "        best_parameters = {\"n_estimators\":n_estimators,\"max_depth\":max_depth}\n",
    "\n",
    "print(\"最佳分数:\",best_score)\n",
    "print(\"最佳参数组:\",best_parameters)"
   ]
  },
  {
   "cell_type": "markdown",
   "metadata": {},
   "source": [
    "### 带交叉验证的网络搜索"
   ]
  },
  {
   "cell_type": "code",
   "execution_count": 17,
   "metadata": {},
   "outputs": [
    {
     "name": "stdout",
     "output_type": "stream",
     "text": [
      "最佳分数: 0.964881229623\n",
      "最佳参数组: {'n_estimators': 50, 'max_depth': 6}\n"
     ]
    }
   ],
   "source": [
    "from sklearn.ensemble import RandomForestClassifier #随机森林分类器\n",
    "from sklearn.model_selection import  train_test_split #数据集合拆分器\n",
    "from sklearn.datasets import  load_breast_cancer #数据集\n",
    "from sklearn.model_selection import cross_val_score #交叉验证\n",
    "from sklearn.model_selection import KFold #k折交叉验证\n",
    "\n",
    "cancer = load_breast_cancer()\n",
    "x_train,x_test,y_train,y_test = train_test_split(cancer.data,cancer.target,random_state=0,test_size=0.3)\n",
    "\n",
    "#对两种参数组合都训练一个rf模型\n",
    "best_score = 0\n",
    "for (max_depth,n_estimators) in [(x,y) for x in range(2,10) for y in range(20,100,10)]:\n",
    "    rf = RandomForestClassifier(n_estimators=n_estimators,max_depth=max_depth)\n",
    "    #k折交叉验证\n",
    "    kfold = KFold(n_splits=5)\n",
    "    \n",
    "    scores = cross_val_score(rf,cancer.data,cancer.target,cv=kfold)\n",
    "    score = np.mean(scores)\n",
    "    \n",
    "    #如果我们得到了更高得分数,则保存该分数下的参数\n",
    "    if score > best_score:\n",
    "        best_score = score\n",
    "        best_parameters = {\"n_estimators\":n_estimators,\"max_depth\":max_depth}\n",
    "\n",
    "print(\"最佳分数:\",best_score)\n",
    "print(\"最佳参数组:\",best_parameters)"
   ]
  },
  {
   "cell_type": "markdown",
   "metadata": {},
   "source": [
    "### 估计器 GridSearchCV方法---避免使用for循环,节约计算资源"
   ]
  },
  {
   "cell_type": "code",
   "execution_count": 18,
   "metadata": {},
   "outputs": [
    {
     "data": {
      "text/plain": [
       "0.95906432748538006"
      ]
     },
     "execution_count": 18,
     "metadata": {},
     "output_type": "execute_result"
    }
   ],
   "source": [
    "from sklearn.ensemble import RandomForestClassifier #随机森林分类器\n",
    "from sklearn.model_selection import  train_test_split #数据集合拆分器\n",
    "from sklearn.datasets import  load_breast_cancer #数据集\n",
    "from sklearn.model_selection import KFold #k折交叉验证\n",
    "from sklearn.model_selection import GridSearchCV #估计器\n",
    "\n",
    "cancer = load_breast_cancer()\n",
    "x_train,x_test,y_train,y_test = train_test_split(cancer.data,cancer.target,random_state=0,test_size=0.3)\n",
    "\n",
    "#构建参数组集\n",
    "param_grid ={\"n_estimators\": [x for x in range(20,100,10)],\"max_depth\":[y for y in range(2,10)]}\n",
    "\n",
    "#构建网络搜索分类器\n",
    "rf = RandomForestClassifier()\n",
    "kfold = KFold(n_splits=5)\n",
    "grid_search = GridSearchCV(rf,param_grid=param_grid, cv=kfold)\n",
    "\n",
    "#进行交叉验证\n",
    "grid_search.fit(x_train,y_train)\n",
    "\n",
    "grid_search.score(x_test,y_test)"
   ]
  },
  {
   "cell_type": "code",
   "execution_count": 21,
   "metadata": {},
   "outputs": [
    {
     "data": {
      "text/html": [
       "<div>\n",
       "<style>\n",
       "    .dataframe thead tr:only-child th {\n",
       "        text-align: right;\n",
       "    }\n",
       "\n",
       "    .dataframe thead th {\n",
       "        text-align: left;\n",
       "    }\n",
       "\n",
       "    .dataframe tbody tr th {\n",
       "        vertical-align: top;\n",
       "    }\n",
       "</style>\n",
       "<table border=\"1\" class=\"dataframe\">\n",
       "  <thead>\n",
       "    <tr style=\"text-align: right;\">\n",
       "      <th></th>\n",
       "      <th>mean_fit_time</th>\n",
       "      <th>mean_score_time</th>\n",
       "      <th>mean_test_score</th>\n",
       "      <th>mean_train_score</th>\n",
       "      <th>param_max_depth</th>\n",
       "      <th>param_n_estimators</th>\n",
       "      <th>params</th>\n",
       "      <th>rank_test_score</th>\n",
       "      <th>split0_test_score</th>\n",
       "      <th>split0_train_score</th>\n",
       "      <th>...</th>\n",
       "      <th>split2_test_score</th>\n",
       "      <th>split2_train_score</th>\n",
       "      <th>split3_test_score</th>\n",
       "      <th>split3_train_score</th>\n",
       "      <th>split4_test_score</th>\n",
       "      <th>split4_train_score</th>\n",
       "      <th>std_fit_time</th>\n",
       "      <th>std_score_time</th>\n",
       "      <th>std_test_score</th>\n",
       "      <th>std_train_score</th>\n",
       "    </tr>\n",
       "  </thead>\n",
       "  <tbody>\n",
       "    <tr>\n",
       "      <th>0</th>\n",
       "      <td>0.03094</td>\n",
       "      <td>0.00189</td>\n",
       "      <td>0.93719</td>\n",
       "      <td>0.96671</td>\n",
       "      <td>2</td>\n",
       "      <td>20</td>\n",
       "      <td>{'max_depth': 2, 'n_estimators': 20}</td>\n",
       "      <td>56</td>\n",
       "      <td>0.93750</td>\n",
       "      <td>0.96541</td>\n",
       "      <td>...</td>\n",
       "      <td>0.96250</td>\n",
       "      <td>0.96226</td>\n",
       "      <td>0.93671</td>\n",
       "      <td>0.96552</td>\n",
       "      <td>0.93671</td>\n",
       "      <td>0.96865</td>\n",
       "      <td>0.00372</td>\n",
       "      <td>0.00056</td>\n",
       "      <td>0.01586</td>\n",
       "      <td>0.00321</td>\n",
       "    </tr>\n",
       "    <tr>\n",
       "      <th>1</th>\n",
       "      <td>0.04721</td>\n",
       "      <td>0.00223</td>\n",
       "      <td>0.93970</td>\n",
       "      <td>0.96860</td>\n",
       "      <td>2</td>\n",
       "      <td>30</td>\n",
       "      <td>{'max_depth': 2, 'n_estimators': 30}</td>\n",
       "      <td>52</td>\n",
       "      <td>0.97500</td>\n",
       "      <td>0.97170</td>\n",
       "      <td>...</td>\n",
       "      <td>0.92500</td>\n",
       "      <td>0.97170</td>\n",
       "      <td>0.93671</td>\n",
       "      <td>0.96552</td>\n",
       "      <td>0.96203</td>\n",
       "      <td>0.96552</td>\n",
       "      <td>0.01072</td>\n",
       "      <td>0.00031</td>\n",
       "      <td>0.02667</td>\n",
       "      <td>0.00276</td>\n",
       "    </tr>\n",
       "  </tbody>\n",
       "</table>\n",
       "<p>2 rows × 22 columns</p>\n",
       "</div>"
      ],
      "text/plain": [
       "   mean_fit_time  mean_score_time  mean_test_score  mean_train_score  \\\n",
       "0        0.03094          0.00189          0.93719           0.96671   \n",
       "1        0.04721          0.00223          0.93970           0.96860   \n",
       "\n",
       "  param_max_depth param_n_estimators                                params  \\\n",
       "0               2                 20  {'max_depth': 2, 'n_estimators': 20}   \n",
       "1               2                 30  {'max_depth': 2, 'n_estimators': 30}   \n",
       "\n",
       "   rank_test_score  split0_test_score  split0_train_score       ...         \\\n",
       "0               56            0.93750             0.96541       ...          \n",
       "1               52            0.97500             0.97170       ...          \n",
       "\n",
       "   split2_test_score  split2_train_score  split3_test_score  \\\n",
       "0            0.96250             0.96226            0.93671   \n",
       "1            0.92500             0.97170            0.93671   \n",
       "\n",
       "   split3_train_score  split4_test_score  split4_train_score  std_fit_time  \\\n",
       "0             0.96552            0.93671             0.96865       0.00372   \n",
       "1             0.96552            0.96203             0.96552       0.01072   \n",
       "\n",
       "   std_score_time  std_test_score  std_train_score  \n",
       "0         0.00056         0.01586          0.00321  \n",
       "1         0.00031         0.02667          0.00276  \n",
       "\n",
       "[2 rows x 22 columns]"
      ]
     },
     "execution_count": 21,
     "metadata": {},
     "output_type": "execute_result"
    }
   ],
   "source": [
    "#可视化参数组合结果\n",
    "result = pd.DataFrame(grid_search.cv_results_)\n",
    "result.head(2)"
   ]
  },
  {
   "cell_type": "code",
   "execution_count": 26,
   "metadata": {
    "scrolled": true
   },
   "outputs": [
    {
     "data": {
      "text/plain": [
       "<matplotlib.collections.PolyCollection at 0x1205a30f0>"
      ]
     },
     "execution_count": 26,
     "metadata": {},
     "output_type": "execute_result"
    },
    {
     "data": {
      "image/png": "[encoded data removed]",
      "text/plain": [
       "<Figure size 864x720 with 1 Axes>"
      ]
     },
     "metadata": {},
     "output_type": "display_data"
    }
   ],
   "source": [
    "#各参数组合的scores\n",
    "scores = np.array(result.mean_test_score).reshape(8,8)\n",
    "plt.figure(figsize=(12,10))\n",
    "mglearn.tools.heatmap(scores,xlabel=\"n_estimators\",ylabel=\"max_depth\",xticklabels=param_grid[\"n_estimators\"],\n",
    "                      yticklabels=param_grid[\"max_depth\"])"
   ]
  },
  {
   "cell_type": "markdown",
   "metadata": {},
   "source": [
    "## 评估指标与评分----混淆矩阵"
   ]
  },
  {
   "cell_type": "code",
   "execution_count": 41,
   "metadata": {},
   "outputs": [
    {
     "name": "stdout",
     "output_type": "stream",
     "text": [
      "[[ 60   3]\n",
      " [  4 104]]\n"
     ]
    },
    {
     "data": {
      "image/png": "[encoded data removed]",
      "text/plain": [
       "<Figure size 432x288 with 1 Axes>"
      ]
     },
     "metadata": {},
     "output_type": "display_data"
    }
   ],
   "source": [
    "\n",
    "mglearn.plots.plot_binary_confusion_matrix()"
   ]
  },
  {
   "cell_type": "markdown",
   "metadata": {},
   "source": [
    "##### 各项指标计算公式\n",
    "###### 精度(accurary)\n",
    "###### 所谓accuracy精度即是正确预测的数量(TN+TP)除以所有样本数(TN+FP+FN+TP):\n",
    "\\begin{equation}\n",
    "\\text{AUC} = \\frac{\\text{TP} + \\text{TN}}{\\text{TP} + \\text{TN} + \\text{FP} + \\text{FN}}\n",
    "\\end{equation}"
   ]
  },
  {
   "cell_type": "markdown",
   "metadata": {},
   "source": [
    "###### 准确率(Precision)\n",
    "###### 准确率(precision)度量的是被预测为正例的样本中有多少时真正的正例\n",
    "\\begin{equation}\n",
    "\\text{Precision} = \\frac{\\text{TP}}{\\text{TP} + \\text{FP}}\n",
    "\\end{equation}"
   ]
  },
  {
   "cell_type": "markdown",
   "metadata": {},
   "source": [
    "###### 召回率(Recll)\n",
    "###### 召回率(recall) 正样本中有多少被预测为正类\n",
    "\\begin{equation}\n",
    "\\text{Recall} = \\frac{\\text{TP}}{\\text{TP} + \\text{FN}}\n",
    "\\end{equation}"
   ]
  },
  {
   "cell_type": "markdown",
   "metadata": {},
   "source": [
    "###### F 综合度量值\n",
    "\\begin{equation}\n",
    "\\text{F} = 2 \\cdot \\frac{\\text{precision} \\cdot \\text{recall}}{\\text{precision} + \\text{recall}}\n",
    "\\end{equation}"
   ]
  },
  {
   "cell_type": "code",
   "execution_count": 44,
   "metadata": {},
   "outputs": [
    {
     "name": "stdout",
     "output_type": "stream",
     "text": [
      "0.970760233918\n",
      "[[ 62   1]\n",
      " [  4 104]]\n",
      "             precision    recall  f1-score   support\n",
      "\n",
      "  malignant       0.94      0.98      0.96        63\n",
      "     benign       0.99      0.96      0.98       108\n",
      "\n",
      "avg / total       0.97      0.97      0.97       171\n",
      "\n"
     ]
    }
   ],
   "source": [
    "from sklearn.ensemble import RandomForestClassifier #随机森林分类器\n",
    "from sklearn.model_selection import  train_test_split #数据集合拆分器\n",
    "from sklearn.datasets import  load_breast_cancer #数据集\n",
    "from sklearn.model_selection import KFold #k折交叉验证\n",
    "from sklearn.model_selection import GridSearchCV #估计器\n",
    "from sklearn.metrics import confusion_matrix #混淆矩阵\n",
    "from sklearn.metrics import classification_report #输出混淆矩阵各项指标\n",
    "cancer = load_breast_cancer()\n",
    "x_train,x_test,y_train,y_test = train_test_split(cancer.data,cancer.target,random_state=0,test_size=0.3)\n",
    "\n",
    "#构建参数组集\n",
    "param_grid ={\"n_estimators\": [x for x in range(20,100,10)],\"max_depth\":[y for y in range(2,10)]}\n",
    "\n",
    "#构建网络搜索分类器\n",
    "rf = RandomForestClassifier()\n",
    "kfold = KFold(n_splits=5)\n",
    "grid_search = GridSearchCV(rf,param_grid=param_grid, cv=kfold)\n",
    "\n",
    "#进行交叉验证训练\n",
    "model = grid_search.fit(x_train,y_train)\n",
    "print(model.score(x_test,y_test))\n",
    "\n",
    "#输出混淆矩阵及各项指标\n",
    "pred = model.predict(x_test)\n",
    "confusion = confusion_matrix(y_test,pred)\n",
    "print(confusion)\n",
    "\n",
    "#输出准确率,召回率,f1值,数量\n",
    "print(classification_report(y_test,pred,target_names = cancer.target_names))"
   ]
  },
  {
   "cell_type": "markdown",
   "metadata": {},
   "source": [
    "#### 准确率(precision)-召回率(recall)曲线"
   ]
  },
  {
   "cell_type": "code",
   "execution_count": 52,
   "metadata": {},
   "outputs": [
    {
     "data": {
      "text/plain": [
       "<matplotlib.legend.Legend at 0x120e5e128>"
      ]
     },
     "execution_count": 52,
     "metadata": {},
     "output_type": "execute_result"
    },
    {
     "data": {
      "image/png": "[encoded data removed]",
      "text/plain": [
       "<Figure size 720x432 with 1 Axes>"
      ]
     },
     "metadata": {},
     "output_type": "display_data"
    }
   ],
   "source": [
    "from sklearn.metrics import precision_recall_curve\n",
    "precision,recall,thresholds = precision_recall_curve(y_test,model.predict_proba(x_test)[:,1]) #直接使用上文中的model\n",
    "#找到最接近于0的阈值\n",
    "close_zero = np.argmin(np.abs(thresholds-0.5))\n",
    "\n",
    "plt.figure(figsize=(10,6))\n",
    "plt.plot(precision,recall,label=\"rf\",c=\"g\",lw=3)\n",
    "plt.plot(precision[close_zero],recall[close_zero],\"o\",c=\"m\",markersize=10,label=\"threshold rf\", fillstyle=\"none\",mew=3)\n",
    "plt.xlabel(\"Precision\")\n",
    "plt.ylabel(\"Recall\")\n",
    "plt.legend(loc=\"best\")"
   ]
  },
  {
   "cell_type": "markdown",
   "metadata": {},
   "source": [
    "#### ROC与AUC,ROC即是受试者工作特征曲线,AUC表示ROC曲面下的面积大小,介于0~1之间"
   ]
  },
  {
   "cell_type": "code",
   "execution_count": 59,
   "metadata": {},
   "outputs": [
    {
     "name": "stdout",
     "output_type": "stream",
     "text": [
      "AUC分数: 0.995664315109\n"
     ]
    },
    {
     "data": {
      "image/png": "[encoded data removed]",
      "text/plain": [
       "<Figure size 864x432 with 1 Axes>"
      ]
     },
     "metadata": {},
     "output_type": "display_data"
    }
   ],
   "source": [
    "#导入ROC模块\n",
    "from sklearn.metrics import roc_curve #ROC曲线\n",
    "from sklearn.metrics import roc_auc_score #AUC分数\n",
    "\n",
    "fpr_rf,tpr_rf,thresholds_rf = roc_curve(y_test,model.predict_proba(x_test)[:,1])\n",
    "\n",
    "#找到最接近于0的阈值\n",
    "close_zero = np.argmin(np.abs(thresholds-0.5))\n",
    "plt.figure(figsize=(12,6))\n",
    "plt.plot(fpr_rf,tpr_rf,label=\"ROC\")\n",
    "plt.plot(fpr_rf[close_zero],tpr_rf[close_zero],\"o\",markersize=10,label=\"threshold 0.5rf\",fillstyle=\"none\",c=\"m\",mew=3)\n",
    "#打印AUC分数\n",
    "rf_auc = roc_auc_score(y_test,model.predict_proba(x_test)[:,1])\n",
    "print(\"AUC分数:\",rf_auc)"
   ]
  }
 ],
 "metadata": {
  "kernelspec": {
   "display_name": "Python 3",
   "language": "python",
   "name": "python3"
  },
  "language_info": {
   "codemirror_mode": {
    "name": "ipython",
    "version": 3
   },
   "file_extension": ".py",
   "mimetype": "text/x-python",
   "name": "python",
   "nbconvert_exporter": "python",
   "pygments_lexer": "ipython3",
   "version": "3.6.4"
  }
 },
 "nbformat": 4,
 "nbformat_minor": 2
}
